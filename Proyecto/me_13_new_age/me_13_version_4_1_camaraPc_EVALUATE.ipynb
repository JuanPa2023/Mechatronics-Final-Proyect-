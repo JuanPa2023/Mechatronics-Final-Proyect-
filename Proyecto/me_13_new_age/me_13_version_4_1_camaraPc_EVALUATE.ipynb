{
 "cells": [
  {
   "cell_type": "code",
   "execution_count": 21,
   "metadata": {},
   "outputs": [],
   "source": [
    "import cv2\n",
    "import numpy as np\n",
    "import mediapipe as mp\n",
    "import pickle\n",
    "import tensorflow as tf\n",
    "import threading\n",
    "import pyttsx3 "
   ]
  },
  {
   "cell_type": "code",
   "execution_count": 22,
   "metadata": {},
   "outputs": [],
   "source": [
    "# Configuración de texto a voz\n",
    "tts_engine = pyttsx3.init()\n",
    "tts_engine.setProperty('rate', 150)\n",
    "tts_lock = threading.Lock()\n",
    "last_spoken_gesture = None\n",
    "\n",
    "def speak_text(text):\n",
    "    global last_spoken_gesture\n",
    "    with tts_lock:\n",
    "        if text != last_spoken_gesture:\n",
    "            last_spoken_gesture = text\n",
    "            tts_engine.say(text)\n",
    "            tts_engine.runAndWait()"
   ]
  },
  {
   "cell_type": "code",
   "execution_count": 23,
   "metadata": {},
   "outputs": [],
   "source": [
    "# Clase para modelo TFLite\n",
    "class TFLiteModel:\n",
    "    def __init__(self, model_path):\n",
    "        self.interpreter = tf.lite.Interpreter(model_path=model_path)\n",
    "        self.interpreter.allocate_tensors()\n",
    "        self.input_details = self.interpreter.get_input_details()\n",
    "        self.output_details = self.interpreter.get_output_details()\n",
    "    \n",
    "    def predict(self, input_data):\n",
    "        input_data = np.array(input_data, dtype=self.input_details[0]['dtype'])\n",
    "        if len(input_data.shape) == len(self.input_details[0]['shape']) - 1:\n",
    "            input_data = np.expand_dims(input_data, axis=0)\n",
    "        self.interpreter.set_tensor(self.input_details[0]['index'], input_data)\n",
    "        self.interpreter.invoke()\n",
    "        return self.interpreter.get_tensor(self.output_details[0]['index'])"
   ]
  },
  {
   "cell_type": "code",
   "execution_count": 24,
   "metadata": {},
   "outputs": [],
   "source": [
    "# Configuración de MediaPipe\n",
    "mp_hands = mp.solutions.hands\n",
    "hands = mp_hands.Hands(\n",
    "    static_image_mode=False,\n",
    "    max_num_hands=2,\n",
    "    min_detection_confidence=0.5,\n",
    "    min_tracking_confidence=0.5\n",
    ")\n",
    "mp_drawing = mp.solutions.drawing_utils"
   ]
  },
  {
   "cell_type": "code",
   "execution_count": 25,
   "metadata": {},
   "outputs": [],
   "source": [
    "\n",
    "# Cargar recursos pre-entrenados\n",
    "scaler = pickle.load(open(\"hand_gesture_scaler_4_1.pkl\", \"rb\"))\n",
    "label_encoder = pickle.load(open(\"hand_gesture_encoder_4_1.pkl\", \"rb\"))\n",
    "tflite_model = TFLiteModel(\"modelo_optimizadotl_4_1.tflite\") #falta hacer el me_13_version_4_1_camarapc con tflite\n"
   ]
  },
  {
   "cell_type": "code",
   "execution_count": 26,
   "metadata": {},
   "outputs": [],
   "source": [
    "def extract_hand_landmarks(frame):\n",
    "    frame_rgb = cv2.cvtColor(frame, cv2.COLOR_BGR2RGB)\n",
    "    results = hands.process(frame_rgb)\n",
    "    landmarks_data = []\n",
    "    hands_detected = False\n",
    "    \n",
    "    if results.multi_hand_landmarks:\n",
    "        hands_detected = True\n",
    "        for hand_landmarks in results.multi_hand_landmarks:\n",
    "            mp_drawing.draw_landmarks(frame, hand_landmarks, mp_hands.HAND_CONNECTIONS)\n",
    "            landmarks = []\n",
    "            for landmark in hand_landmarks.landmark:\n",
    "                landmarks.extend([landmark.x, landmark.y, landmark.z])\n",
    "            landmarks_data.extend(landmarks)\n",
    "    \n",
    "    # Rellenar con ceros si no hay detección\n",
    "    while len(landmarks_data) < 21 * 3 * 2:\n",
    "        landmarks_data.append(0.0)\n",
    "    \n",
    "    return landmarks_data[:21 * 3 * 2], hands_detected"
   ]
  },
  {
   "cell_type": "code",
   "execution_count": 27,
   "metadata": {},
   "outputs": [],
   "source": [
    "def predict_gesture(landmarks, threshold=0.9):\n",
    "    X = np.array([landmarks])\n",
    "    X_scaled = scaler.transform(X)\n",
    "    prediction_probs = tflite_model.predict(X_scaled)[0]\n",
    "    prediction_idx = np.argmax(prediction_probs)\n",
    "    confidence = prediction_probs[prediction_idx]\n",
    "    \n",
    "    try:\n",
    "        prediction_label = label_encoder.inverse_transform([prediction_idx])[0]\n",
    "    except:\n",
    "        prediction_label = \"Desconocido\"\n",
    "    \n",
    "    #return prediction_label, confidence\n",
    "## Solo devolver predicción si la confianza es suficiente\n",
    "    if confidence >= threshold:\n",
    "        return prediction_label, confidence\n",
    "    return \"Desconocido\", confidence"
   ]
  },
  {
   "cell_type": "code",
   "execution_count": null,
   "metadata": {},
   "outputs": [],
   "source": [
    "def main():\n",
    "    cap = cv2.VideoCapture(0)\n",
    "    \n",
    "    try:\n",
    "        while True:\n",
    "            ret, frame = cap.read()\n",
    "            if not ret:\n",
    "                continue\n",
    "            \n",
    "            frame = cv2.flip(frame, 1)  # Voltear horizontalmente\n",
    "\n",
    "            landmarks, hands_detected = extract_hand_landmarks(frame)\n",
    "            frame_h, frame_w = frame.shape[:2]\n",
    "            \n",
    "            if hands_detected:\n",
    "                prediction, confidence = predict_gesture(landmarks)\n",
    "                color = (0, 255, 0) if confidence > 0.9 else (0, 165, 255)\n",
    "                \n",
    "                cv2.putText(frame, f\"Seña: {prediction}\", (10, 50),\n",
    "                            cv2.FONT_HERSHEY_SIMPLEX, 0.9, color, 2)\n",
    "                cv2.putText(frame, f\"Confianza: {confidence:.2%}\", (10, 90),\n",
    "                            cv2.FONT_HERSHEY_SIMPLEX, 0.7, color, 2)\n",
    "                \n",
    "                if confidence > 0.98 and prediction != \"Desconocido\":\n",
    "                    threading.Thread(target=speak_text, args=(prediction,), daemon=True).start()\n",
    "            else:\n",
    "                cv2.putText(frame, \"Acerca las manos a la camara\", (frame_w//4, frame_h//2),\n",
    "                            cv2.FONT_HERSHEY_SIMPLEX, 0.7, (255, 255, 0), 2)\n",
    "            \n",
    "            cv2.imshow(\"Evaluacion en Tiempo Real\", frame)\n",
    "            \n",
    "            if cv2.waitKey(1) & 0xFF == 27:  # Tecla ESC\n",
    "                break\n",
    "                \n",
    "    finally:\n",
    "        cap.release()\n",
    "        cv2.destroyAllWindows()\n",
    "\n"
   ]
  },
  {
   "cell_type": "code",
   "execution_count": 29,
   "metadata": {},
   "outputs": [],
   "source": [
    "if __name__ == \"__main__\":\n",
    "    main()"
   ]
  }
 ],
 "metadata": {
  "kernelspec": {
   "display_name": "Python 3",
   "language": "python",
   "name": "python3"
  },
  "language_info": {
   "codemirror_mode": {
    "name": "ipython",
    "version": 3
   },
   "file_extension": ".py",
   "mimetype": "text/x-python",
   "name": "python",
   "nbconvert_exporter": "python",
   "pygments_lexer": "ipython3",
   "version": "3.10.11"
  }
 },
 "nbformat": 4,
 "nbformat_minor": 2
}
