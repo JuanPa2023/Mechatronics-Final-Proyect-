{
 "cells": [
  {
   "cell_type": "code",
   "execution_count": null,
   "metadata": {},
   "outputs": [],
   "source": [
    "from ultralytics import YOLO\n",
    "import cv2\n",
    "\n",
    "# Cargar el modelo YOLO preentrenado (puedes cambiar el modelo a uno específico para manos)\n",
    "model = YOLO(\"yolov8n.pt\")  # Cambia \"yolov8n.pt\" por tu modelo específico, si lo tienes\n",
    "\n",
    "# Capturar video en tiempo real desde la cámara\n",
    "cap = cv2.VideoCapture(0)  # Usa 0 para cámara local, o ruta de video\n",
    "\n",
    "while cap.isOpened():\n",
    "    ret, frame = cap.read()\n",
    "    if not ret:\n",
    "        break\n",
    "\n",
    "    # Realizar la detección\n",
    "    results = model(frame)\n",
    "\n",
    "    # Dibujar las cajas delimitadoras y etiquetas en el frame\n",
    "    for r in results[0].boxes:\n",
    "        x1, y1, x2, y2 = map(int, r.xyxy[0])  # Coordenadas de la caja\n",
    "        confidence = r.conf[0]  # Confianza de la detección\n",
    "        label = r.cls[0]  # Clase detectada (por ejemplo, \"mano\")\n",
    "\n",
    "        if confidence > 0.5:  # Mostrar solo detecciones confiables\n",
    "            cv2.rectangle(frame, (x1, y1), (x2, y2), (0, 255, 0), 2)\n",
    "            cv2.putText(frame, f\"Hand: {confidence:.2f}\", (x1, y1 - 10),\n",
    "                        cv2.FONT_HERSHEY_SIMPLEX, 0.5, (0, 255, 0), 2)\n",
    "\n",
    "    # Mostrar el frame con las detecciones\n",
    "    cv2.imshow(\"Detección de Manos\", frame)\n",
    "\n",
    "    # Salir al presionar 'ESC'\n",
    "    if cv2.waitKey(1) & 0xFF == 27:\n",
    "        break\n",
    "\n",
    "cap.release()\n",
    "cv2.destroyAllWindows()\n"
   ]
  }
 ],
 "metadata": {
  "kernelspec": {
   "display_name": "Python 3",
   "language": "python",
   "name": "python3"
  },
  "language_info": {
   "name": "python",
   "version": "3.11.9"
  }
 },
 "nbformat": 4,
 "nbformat_minor": 2
}
